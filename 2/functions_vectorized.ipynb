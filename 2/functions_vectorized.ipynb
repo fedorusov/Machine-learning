{
 "cells": [
  {
   "cell_type": "code",
   "execution_count": 379,
   "metadata": {},
   "outputs": [],
   "source": [
    "import numpy as np\n",
    "\n",
    "\n",
    "def prod_non_zero_diag(x):\n",
    "    \"\"\"Compute product of nonzero elements from matrix diagonal.\n",
    "\n",
    "    input:\n",
    "    x -- 2-d numpy array\n",
    "    output:\n",
    "    product -- integer number\n",
    "\n",
    "\n",
    "    Vectorized implementation.\n",
    "    \"\"\"\n",
    "    x = x.diagonal()\n",
    "    x = x[np.nonzero(x)]\n",
    "    return x.prod()\n",
    "    pass\n",
    "\n",
    "\n",
    "def are_multisets_equal(x, y):\n",
    "    \"\"\"Return True if both vectors create equal multisets.\n",
    "\n",
    "    input:\n",
    "    x, y -- 1-d numpy arrays\n",
    "    output:\n",
    "    True if multisets are equal, False otherwise -- boolean\n",
    "\n",
    "    Vectorized implementation.\n",
    "    \"\"\"\n",
    "    x.sort()\n",
    "    y.sort()\n",
    "    return np.all(x == y)\n",
    "    pass\n",
    "\n",
    "\n",
    "def max_after_zero(x):\n",
    "    \"\"\"Find max element after zero in array.\n",
    "\n",
    "    input:\n",
    "    x -- 1-d numpy array\n",
    "    output:\n",
    "    maximum element after zero -- integer number\n",
    "\n",
    "    Vectorized implementation.\n",
    "    \"\"\"\n",
    "    z = np.where(x == 0)[0] + 1\n",
    "    x = np.append(x, x.min())\n",
    "    return x[z].max()\n",
    "    pass\n",
    "\n",
    "def convert_image(img, coefs):\n",
    "    \"\"\"Sum up image channels with weights from coefs array\n",
    "\n",
    "    input:\n",
    "    img -- 3-d numpy array (H x W x num_channels)\n",
    "    coefs -- 1-d numpy array (length num_channels)\n",
    "    output:\n",
    "    img -- 2-d numpy array\n",
    "\n",
    "    Vectorized implementation.\n",
    "    \"\"\"\n",
    "    img = np.multiply(img[:, :], coefs)\n",
    "    #print(img)\n",
    "    return np.sum(img, axis = 2)\n",
    "    pass\n",
    "\n",
    "\n",
    "def run_length_encoding(x):\n",
    "    \"\"\"Make run-length encoding.\n",
    "\n",
    "    input:\n",
    "    x -- 1-d numpy array\n",
    "    output:\n",
    "    elements, counters -- integer iterables\n",
    "\n",
    "    Vectorized implementation.\n",
    "    \"\"\"\n",
    "    n = len(x)\n",
    "    starts = np.r_[0, np.flatnonzero(~(x[1:] == x[:-1])) + 1]\n",
    "    lengths = np.diff(np.r_[starts, n])\n",
    "    values = x[starts]\n",
    "    return values, lengths\n",
    "    pass\n",
    "\n",
    "#    return np.linalg.norm(a - b)\n",
    "\n",
    "def substract_vect(a, b):\n",
    "    return a - b\n",
    "\n",
    "def pairwise_distance(x, y):\n",
    "    \"\"\"Return pairwise object distance.\n",
    "\n",
    "    input:\n",
    "    x, y -- 2d numpy arrays\n",
    "    output:\n",
    "    distance array -- 2d numpy array\n",
    "\n",
    "    Vectorized implementation.\n",
    "    \"\"\"\n",
    "    n = x.shape[0]\n",
    "    m = y.shape[0]\n",
    "    k = x.shape[1]\n",
    "    a = np.repeat(x, m, axis=0).reshape(n, m, k) \n",
    "    b = np.repeat(y[:][np.newaxis][:], n, axis=0)\n",
    "    z = a - b \n",
    "    return np.apply_along_axis(np.linalg.norm, 2, z)  "
   ]
  },
  {
   "cell_type": "code",
   "execution_count": 52,
   "metadata": {},
   "outputs": [],
   "source": [
    "X = np.array([[1, 0, 1], [2, 0, 2], [3, 0, 3], [4, 4, 4]])"
   ]
  },
  {
   "cell_type": "code",
   "execution_count": 53,
   "metadata": {},
   "outputs": [
    {
     "data": {
      "text/plain": [
       "3"
      ]
     },
     "execution_count": 53,
     "metadata": {},
     "output_type": "execute_result"
    }
   ],
   "source": [
    "prod_non_zero_diag(X)"
   ]
  },
  {
   "cell_type": "code",
   "execution_count": 54,
   "metadata": {},
   "outputs": [],
   "source": [
    "X = np.array([1, 2, 2, 4])\n",
    "Y = np.array([4, 2, 1, 2])"
   ]
  },
  {
   "cell_type": "code",
   "execution_count": 55,
   "metadata": {},
   "outputs": [
    {
     "data": {
      "text/plain": [
       "True"
      ]
     },
     "execution_count": 55,
     "metadata": {},
     "output_type": "execute_result"
    }
   ],
   "source": [
    "are_multisets_equal(X, Y)"
   ]
  },
  {
   "cell_type": "code",
   "execution_count": 56,
   "metadata": {},
   "outputs": [
    {
     "data": {
      "text/plain": [
       "False"
      ]
     },
     "execution_count": 56,
     "metadata": {},
     "output_type": "execute_result"
    }
   ],
   "source": [
    "are_multisets_equal(np.array([1, 2, 3, 3]), np.array([1, 2, 2, 3]))"
   ]
  },
  {
   "cell_type": "code",
   "execution_count": 295,
   "metadata": {},
   "outputs": [],
   "source": [
    "X = np.array([6, 2, 0, 3, 0, 0, 5, 7, 0])"
   ]
  },
  {
   "cell_type": "code",
   "execution_count": 296,
   "metadata": {
    "scrolled": true
   },
   "outputs": [
    {
     "data": {
      "text/plain": [
       "5"
      ]
     },
     "execution_count": 296,
     "metadata": {},
     "output_type": "execute_result"
    }
   ],
   "source": [
    "max_after_zero(X)"
   ]
  },
  {
   "cell_type": "code",
   "execution_count": 297,
   "metadata": {},
   "outputs": [
    {
     "data": {
      "text/plain": [
       "0"
      ]
     },
     "execution_count": 297,
     "metadata": {},
     "output_type": "execute_result"
    }
   ],
   "source": [
    "max_after_zero(np.array([0, 0, -5]))"
   ]
  },
  {
   "cell_type": "code",
   "execution_count": 142,
   "metadata": {},
   "outputs": [],
   "source": [
    "X = np.array([2, 2, 2, 3, 3, 3, 5])"
   ]
  },
  {
   "cell_type": "code",
   "execution_count": 150,
   "metadata": {},
   "outputs": [
    {
     "data": {
      "text/plain": [
       "(array([2, 3, 5]), array([3, 3, 1]))"
      ]
     },
     "execution_count": 150,
     "metadata": {},
     "output_type": "execute_result"
    }
   ],
   "source": [
    "run_length_encoding(X)"
   ]
  },
  {
   "cell_type": "code",
   "execution_count": 381,
   "metadata": {
    "scrolled": true
   },
   "outputs": [
    {
     "data": {
      "text/plain": [
       "array([[ 5.65685425,  8.48528137],\n",
       "       [ 2.82842712,  5.65685425]])"
      ]
     },
     "execution_count": 381,
     "metadata": {},
     "output_type": "execute_result"
    }
   ],
   "source": [
    "pairwise_distance(np.array([[1, 2], [3, 4]]), np.array([[5, 6], [7, 8]]))"
   ]
  },
  {
   "cell_type": "code",
   "execution_count": 382,
   "metadata": {},
   "outputs": [
    {
     "data": {
      "text/plain": [
       "array([[  2.23606798,  12.04159458],\n",
       "       [  3.16227766,   8.60232527]])"
      ]
     },
     "execution_count": 382,
     "metadata": {},
     "output_type": "execute_result"
    }
   ],
   "source": [
    "pairwise_distance(np.array([[1, 9], [2, 5]]), np.array([[3, 8], [9, 0]]))"
   ]
  },
  {
   "cell_type": "code",
   "execution_count": 383,
   "metadata": {},
   "outputs": [
    {
     "data": {
      "text/plain": [
       "array([[  2.23606798,  12.04159458,   9.89949494],\n",
       "       [  3.16227766,   8.60232527,   6.70820393],\n",
       "       [  4.12310563,   7.28010989,   5.09901951]])"
      ]
     },
     "execution_count": 383,
     "metadata": {},
     "output_type": "execute_result"
    }
   ],
   "source": [
    "pairwise_distance(np.array([[1, 9], [2, 5], [7, 7]]), np.array([[3, 8], [9, 0], [8, 2]]))"
   ]
  },
  {
   "cell_type": "code",
   "execution_count": 236,
   "metadata": {},
   "outputs": [],
   "source": [
    "import scipy.spatial"
   ]
  },
  {
   "cell_type": "code",
   "execution_count": 237,
   "metadata": {},
   "outputs": [
    {
     "data": {
      "text/plain": [
       "array([[ 5.65685425,  8.48528137],\n",
       "       [ 2.82842712,  5.65685425]])"
      ]
     },
     "execution_count": 237,
     "metadata": {},
     "output_type": "execute_result"
    }
   ],
   "source": [
    "scipy.spatial.distance.cdist([[1, 2], [3, 4]], [[5, 6], [7, 8]])"
   ]
  },
  {
   "cell_type": "code",
   "execution_count": 384,
   "metadata": {
    "scrolled": false
   },
   "outputs": [
    {
     "name": "stdout",
     "output_type": "stream",
     "text": [
      "433 µs ± 33.8 µs per loop (mean ± std. dev. of 7 runs, 1000 loops each)\n"
     ]
    }
   ],
   "source": [
    "%timeit pairwise_distance(np.array([[1, 2], [3, 4]]), np.array([[5, 6], [7, 8]]))"
   ]
  },
  {
   "cell_type": "code",
   "execution_count": 239,
   "metadata": {},
   "outputs": [
    {
     "name": "stdout",
     "output_type": "stream",
     "text": [
      "96 µs ± 746 ns per loop (mean ± std. dev. of 7 runs, 10000 loops each)\n"
     ]
    }
   ],
   "source": [
    "%timeit scipy.spatial.distance.cdist([[1, 2], [3, 4]], [[5, 6], [7, 8]])"
   ]
  },
  {
   "cell_type": "code",
   "execution_count": 281,
   "metadata": {},
   "outputs": [
    {
     "name": "stdout",
     "output_type": "stream",
     "text": [
      "36.3 ms ± 4.23 ms per loop (mean ± std. dev. of 7 runs, 10 loops each)\n"
     ]
    }
   ],
   "source": [
    "import imageio\n",
    "img = imageio.imread('img.png')\n",
    "buf = convert_image(np.array(img), np.array([0.299, 0.587, 0.114]))"
   ]
  },
  {
   "cell_type": "code",
   "execution_count": 277,
   "metadata": {
    "scrolled": true
   },
   "outputs": [
    {
     "name": "stderr",
     "output_type": "stream",
     "text": [
      "WARNING:root:Lossy conversion from float64 to uint8. Range [0.0, 255.0]. Convert image to uint8 prior to saving to suppress this warning.\n"
     ]
    }
   ],
   "source": [
    "imageio.imwrite('result.png', np.array(buf))"
   ]
  },
  {
   "cell_type": "code",
   "execution_count": null,
   "metadata": {},
   "outputs": [],
   "source": []
  }
 ],
 "metadata": {
  "kernelspec": {
   "display_name": "Python 3",
   "language": "python",
   "name": "python3"
  },
  "language_info": {
   "codemirror_mode": {
    "name": "ipython",
    "version": 3
   },
   "file_extension": ".py",
   "mimetype": "text/x-python",
   "name": "python",
   "nbconvert_exporter": "python",
   "pygments_lexer": "ipython3",
   "version": "3.6.3"
  }
 },
 "nbformat": 4,
 "nbformat_minor": 2
}
