{
 "cells": [
  {
   "cell_type": "code",
   "execution_count": 27,
   "metadata": {},
   "outputs": [],
   "source": [
    "def prod_non_zero_diag(x):\n",
    "    \"\"\"Compute product of nonzero elements from matrix diagonal.\n",
    "\n",
    "    input:\n",
    "    x -- 2-d numpy array\n",
    "    output:\n",
    "    product -- integer number\n",
    "\n",
    "\n",
    "    Not vectorized implementation.\n",
    "    \"\"\"\n",
    "    ans = 1\n",
    "    n = min(len(x), len(x[0]))\n",
    "    for i in range(0, n):\n",
    "        if x[i][i] != 0:\n",
    "            ans *= x[i][i]\n",
    "    return ans\n",
    "    pass\n",
    "\n",
    "\n",
    "def are_multisets_equal(x, y):\n",
    "    \"\"\"Return True if both vectors create equal multisets.\n",
    "\n",
    "    input:\n",
    "    x, y -- 1-d numpy arrays\n",
    "    output:\n",
    "    True if multisets are equal, False otherwise -- boolean\n",
    "\n",
    "    Not vectorized implementation.\n",
    "    \"\"\"\n",
    "    x = sorted(x)\n",
    "    y = sorted(y)\n",
    "    n = len(x)\n",
    "    if n != len(y):\n",
    "        return False\n",
    "    for i in range(0, n):\n",
    "        if x[i] != y[i]:\n",
    "            return False\n",
    "    return True\n",
    "    pass\n",
    "\n",
    "\n",
    "def max_after_zero(x):\n",
    "    \"\"\"Find max element after zero in array.\n",
    "\n",
    "    input:\n",
    "    x -- 1-d numpy array\n",
    "    output:\n",
    "    maximum element after zero -- integer number\n",
    "\n",
    "    Not vectorized implementation.\n",
    "    \"\"\"\n",
    "    n = len(x)\n",
    "    mx = 0\n",
    "    b = True\n",
    "    for i in range(1, n):\n",
    "        if x[i - 1] == 0:\n",
    "            if b:\n",
    "                b = False\n",
    "                mx = x[i]\n",
    "            elif x[i] > mx:\n",
    "                mx = x[i]\n",
    "    return mx\n",
    "    pass\n",
    "\n",
    "\n",
    "def convert_image(img, coefs):\n",
    "    \"\"\"Sum up image channels with weights from coefs array\n",
    "\n",
    "    input:\n",
    "    img -- 3-d numpy array (H x W x num_channels)\n",
    "    coefs -- 1-d numpy array (length num_channels)\n",
    "    output:\n",
    "    img -- 2-d numpy array\n",
    "\n",
    "    Not vectorized implementation.\n",
    "    \"\"\"\n",
    "    H = len(img)\n",
    "    W = len(img[0])\n",
    "    C = len(img[0][0])\n",
    "    ans = [[0 for i in range(W)] for j in range(H)]\n",
    "    for i in range (0, H):\n",
    "        for j in range (0, W):\n",
    "            cur = 0\n",
    "            for k in range(0, C):\n",
    "                cur += img[i][j][k] * coefs[k]\n",
    "            ans[i][j] = cur\n",
    "    return ans\n",
    "    pass\n",
    "\n",
    "\n",
    "def run_length_encoding(x):\n",
    "    \"\"\"Make run-length encoding.\n",
    "\n",
    "    input:\n",
    "    x -- 1-d numpy array\n",
    "    output:\n",
    "    elements, counters -- integer iterables\n",
    "\n",
    "    Not vectorized implementation.\n",
    "    \"\"\"\n",
    "    n = len(x)\n",
    "    ansx, ansy = list(), list()\n",
    "    cur = 1\n",
    "    for i in range(1, n):\n",
    "        if x[i] != x[i - 1]:\n",
    "            ansx.append(x[i - 1])\n",
    "            ansy.append(cur)\n",
    "            cur = 1\n",
    "        else:\n",
    "            cur += 1\n",
    "    ansx.append(x[n - 1])\n",
    "    ansy.append(cur)\n",
    "    return (ansx, ansy)\n",
    "    pass\n",
    "\n",
    "\n",
    "def pairwise_distance(x, y):\n",
    "    \"\"\"Return pairwise object distance.\n",
    "\n",
    "    input:\n",
    "    x, y -- 2d numpy arrays\n",
    "    output:\n",
    "    distance array -- 2d numpy array\n",
    "\n",
    "    Not vectorized implementation.\n",
    "    \"\"\"\n",
    "    n = len(x[0])\n",
    "    kx = len(x)\n",
    "    ky = len(y)\n",
    "    ans = [[0 for j in range(0, ky)] for i in range(0, kx)]\n",
    "    for i in range(0, kx):\n",
    "        for j in range(0, ky):\n",
    "            cur = 0\n",
    "            for z in range(0, n):\n",
    "                cur += (x[i][z] - y[j][z]) ** 2\n",
    "            ans[i][j] = cur ** 0.5\n",
    "    return ans\n",
    "    pass\n"
   ]
  },
  {
   "cell_type": "code",
   "execution_count": 2,
   "metadata": {},
   "outputs": [
    {
     "name": "stdout",
     "output_type": "stream",
     "text": [
      "3.6.3 |Anaconda, Inc.| (default, Oct 13 2017, 12:02:49) \n",
      "[GCC 7.2.0]\n"
     ]
    }
   ],
   "source": [
    "import sys\n",
    "print(sys.version)"
   ]
  },
  {
   "cell_type": "code",
   "execution_count": 3,
   "metadata": {},
   "outputs": [],
   "source": [
    "import numpy as np\n",
    "X = np.array([[1, 0, 1], [2, 0, 2], [3, 0, 3], [4, 4, 4]])"
   ]
  },
  {
   "cell_type": "code",
   "execution_count": 4,
   "metadata": {},
   "outputs": [],
   "source": [
    "x = list(X)"
   ]
  },
  {
   "cell_type": "code",
   "execution_count": 5,
   "metadata": {},
   "outputs": [
    {
     "data": {
      "text/plain": [
       "3"
      ]
     },
     "execution_count": 5,
     "metadata": {},
     "output_type": "execute_result"
    }
   ],
   "source": [
    "prod_non_zero_diag(x)"
   ]
  },
  {
   "cell_type": "code",
   "execution_count": 6,
   "metadata": {},
   "outputs": [],
   "source": [
    "X = np.array([1, 2, 2, 4])\n",
    "Y = np.array([4, 2, 1, 2])"
   ]
  },
  {
   "cell_type": "code",
   "execution_count": 7,
   "metadata": {},
   "outputs": [],
   "source": [
    "x = list(X)\n",
    "y = list(Y)"
   ]
  },
  {
   "cell_type": "code",
   "execution_count": 8,
   "metadata": {},
   "outputs": [
    {
     "data": {
      "text/plain": [
       "True"
      ]
     },
     "execution_count": 8,
     "metadata": {},
     "output_type": "execute_result"
    }
   ],
   "source": [
    "are_multisets_equal(x, y)"
   ]
  },
  {
   "cell_type": "code",
   "execution_count": 9,
   "metadata": {},
   "outputs": [
    {
     "data": {
      "text/plain": [
       "False"
      ]
     },
     "execution_count": 9,
     "metadata": {},
     "output_type": "execute_result"
    }
   ],
   "source": [
    "are_multisets_equal([1, 2, 3, 3], [1, 2, 2, 3])"
   ]
  },
  {
   "cell_type": "code",
   "execution_count": 10,
   "metadata": {},
   "outputs": [],
   "source": [
    "X = np.array([6, 2, 0, 3, 0, 0, 5, 7, 0])"
   ]
  },
  {
   "cell_type": "code",
   "execution_count": 11,
   "metadata": {},
   "outputs": [],
   "source": [
    "x = list(X)"
   ]
  },
  {
   "cell_type": "code",
   "execution_count": 12,
   "metadata": {},
   "outputs": [
    {
     "data": {
      "text/plain": [
       "5"
      ]
     },
     "execution_count": 12,
     "metadata": {},
     "output_type": "execute_result"
    }
   ],
   "source": [
    "max_after_zero(x)"
   ]
  },
  {
   "cell_type": "code",
   "execution_count": 13,
   "metadata": {},
   "outputs": [
    {
     "data": {
      "text/plain": [
       "0"
      ]
     },
     "execution_count": 13,
     "metadata": {},
     "output_type": "execute_result"
    }
   ],
   "source": [
    "max_after_zero([0, 0, -5])"
   ]
  },
  {
   "cell_type": "code",
   "execution_count": 14,
   "metadata": {},
   "outputs": [],
   "source": [
    "X = np.array([2, 2, 2, 3, 3, 3, 5])"
   ]
  },
  {
   "cell_type": "code",
   "execution_count": 15,
   "metadata": {},
   "outputs": [],
   "source": [
    "x = list(X)"
   ]
  },
  {
   "cell_type": "code",
   "execution_count": 16,
   "metadata": {},
   "outputs": [
    {
     "data": {
      "text/plain": [
       "([2, 3, 5], [3, 3, 1])"
      ]
     },
     "execution_count": 16,
     "metadata": {},
     "output_type": "execute_result"
    }
   ],
   "source": [
    "run_length_encoding(x)"
   ]
  },
  {
   "cell_type": "code",
   "execution_count": 34,
   "metadata": {},
   "outputs": [
    {
     "name": "stdout",
     "output_type": "stream",
     "text": [
      "28.9 µs ± 3.63 µs per loop (mean ± std. dev. of 7 runs, 10000 loops each)\n"
     ]
    }
   ],
   "source": [
    "%timeit pairwise_distance([[1, 2], [3, 4]], [[5, 6], [7, 8]])"
   ]
  },
  {
   "cell_type": "code",
   "execution_count": 32,
   "metadata": {},
   "outputs": [
    {
     "data": {
      "text/plain": [
       "[[2.23606797749979, 12.041594578792296],\n",
       " [3.1622776601683795, 8.602325267042627]]"
      ]
     },
     "execution_count": 32,
     "metadata": {},
     "output_type": "execute_result"
    }
   ],
   "source": [
    "pairwise_distance([[1, 9], [2, 5]], [[3, 8], [9, 0]])"
   ]
  },
  {
   "cell_type": "code",
   "execution_count": 33,
   "metadata": {},
   "outputs": [
    {
     "data": {
      "text/plain": [
       "[[2.23606797749979, 12.041594578792296, 9.899494936611665],\n",
       " [3.1622776601683795, 8.602325267042627, 6.708203932499369],\n",
       " [4.123105625617661, 7.280109889280518, 5.0990195135927845]]"
      ]
     },
     "execution_count": 33,
     "metadata": {},
     "output_type": "execute_result"
    }
   ],
   "source": [
    "pairwise_distance([[1, 9], [2, 5], [7, 7]], [[3, 8], [9, 0], [8, 2]])"
   ]
  },
  {
   "cell_type": "code",
   "execution_count": 18,
   "metadata": {},
   "outputs": [],
   "source": [
    "import scipy.spatial"
   ]
  },
  {
   "cell_type": "code",
   "execution_count": 19,
   "metadata": {},
   "outputs": [
    {
     "data": {
      "text/plain": [
       "array([[ 5.65685425,  8.48528137],\n",
       "       [ 2.82842712,  5.65685425]])"
      ]
     },
     "execution_count": 19,
     "metadata": {},
     "output_type": "execute_result"
    }
   ],
   "source": [
    "scipy.spatial.distance.cdist([[1, 2], [3, 4]], [[5, 6], [7, 8]])"
   ]
  },
  {
   "cell_type": "code",
   "execution_count": 20,
   "metadata": {},
   "outputs": [
    {
     "name": "stdout",
     "output_type": "stream",
     "text": [
      "23.1 µs ± 228 ns per loop (mean ± std. dev. of 7 runs, 10000 loops each)\n"
     ]
    }
   ],
   "source": [
    "%timeit pairwise_distance([[1, 2], [3, 4]], [[5, 6], [7, 8]])"
   ]
  },
  {
   "cell_type": "code",
   "execution_count": 21,
   "metadata": {},
   "outputs": [
    {
     "name": "stdout",
     "output_type": "stream",
     "text": [
      "96.2 µs ± 2.66 µs per loop (mean ± std. dev. of 7 runs, 10000 loops each)\n"
     ]
    }
   ],
   "source": [
    "%timeit scipy.spatial.distance.cdist([[1, 2], [3, 4]], [[5, 6], [7, 8]])"
   ]
  },
  {
   "cell_type": "code",
   "execution_count": 31,
   "metadata": {},
   "outputs": [
    {
     "name": "stdout",
     "output_type": "stream",
     "text": [
      "12.1 s ± 398 ms per loop (mean ± std. dev. of 7 runs, 1 loop each)\n"
     ]
    }
   ],
   "source": [
    "%%timeit\n",
    "import imageio\n",
    "import numpy as np\n",
    "img = imageio.imread('img.png')\n",
    "buf = convert_image(list(np.array(img)), list(np.array([0.299, 0.587, 0.114])))"
   ]
  },
  {
   "cell_type": "code",
   "execution_count": 29,
   "metadata": {
    "scrolled": true
   },
   "outputs": [
    {
     "name": "stderr",
     "output_type": "stream",
     "text": [
      "WARNING:root:Lossy conversion from float64 to uint8. Range [0.0, 255.0]. Convert image to uint8 prior to saving to suppress this warning.\n"
     ]
    }
   ],
   "source": [
    "imageio.imwrite('result.png', np.array(buf))"
   ]
  }
 ],
 "metadata": {
  "kernelspec": {
   "display_name": "Python 3",
   "language": "python",
   "name": "python3"
  },
  "language_info": {
   "codemirror_mode": {
    "name": "ipython",
    "version": 3
   },
   "file_extension": ".py",
   "mimetype": "text/x-python",
   "name": "python",
   "nbconvert_exporter": "python",
   "pygments_lexer": "ipython3",
   "version": "3.6.3"
  }
 },
 "nbformat": 4,
 "nbformat_minor": 2
}
